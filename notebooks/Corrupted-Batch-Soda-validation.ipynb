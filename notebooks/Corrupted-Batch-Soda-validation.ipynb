{
 "cells": [
  {
   "cell_type": "code",
   "execution_count": 1,
   "metadata": {},
   "outputs": [],
   "source": [
    "from pyspark.sql import SparkSession\n",
    "from soda.scan import Scan"
   ]
  },
  {
   "cell_type": "code",
   "execution_count": 2,
   "metadata": {},
   "outputs": [
    {
     "name": "stderr",
     "output_type": "stream",
     "text": [
      "24/08/24 14:38:21 WARN Utils: Your hostname, ahmad-HP-ZBook-17 resolves to a loopback address: 127.0.1.1; using 192.168.1.35 instead (on interface wlo1)\n",
      "24/08/24 14:38:21 WARN Utils: Set SPARK_LOCAL_IP if you need to bind to another address\n",
      "Setting default log level to \"WARN\".\n",
      "To adjust logging level use sc.setLogLevel(newLevel). For SparkR, use setLogLevel(newLevel).\n",
      "24/08/24 14:38:22 WARN NativeCodeLoader: Unable to load native-hadoop library for your platform... using builtin-java classes where applicable\n",
      "24/08/24 14:38:24 WARN Utils: Service 'SparkUI' could not bind on port 4040. Attempting port 4041.\n"
     ]
    }
   ],
   "source": [
    "spark = SparkSession \\\n",
    "    .builder \\\n",
    "    .appName(\"DQ\") \\\n",
    "    .getOrCreate()"
   ]
  },
  {
   "cell_type": "code",
   "execution_count": 3,
   "metadata": {},
   "outputs": [
    {
     "name": "stderr",
     "output_type": "stream",
     "text": [
      "                                                                                \r"
     ]
    },
    {
     "name": "stdout",
     "output_type": "stream",
     "text": [
      "+-------------------+--------+--------------------+----------+-------------+------------------+--------+----+--------------+---+--------+--------------------+--------------+----------------+----------------+------------+-----+------------+----+--------+\n",
      "|           Order_ID|    Date|              Status|Fulfilment|Sales_Channel|ship_service_level|Category|Size|Courier_Status|Qty|currency|              Amount|     ship_city|      ship_state|ship_postal_code|ship_country|  B2B|fulfilled_by| New|PendingS|\n",
      "+-------------------+--------+--------------------+----------+-------------+------------------+--------+----+--------------+---+--------+--------------------+--------------+----------------+----------------+------------+-----+------------+----+--------+\n",
      "|402-8288606-4313118|04-30-22|             Shipped|    Amazon|    Amazon.in|         Expedited|   Shirt|   M|       Shipped|  1|     INR|   516.9989855015194|      BILASPUR|HIMACHAL PRADESH|          174001|          IN|false|        NULL|NULL|    NULL|\n",
      "|405-3036350-8089120|04-30-22|             Shipped|    Amazon|    Amazon.in|         Expedited|   Shirt|   M|       Shipped|  1|     INR|   794.9761527705574|     ANKLESHWR|         Gujarat|          393002|          IN|false|        NULL|NULL|    NULL|\n",
      "|404-1580706-8406729|04-30-22|             Shipped|    Amazon|    Amazon.in|         Expedited|   Shirt|  XL|       Shipped|  1|     INR|   474.9775639948803|       CHENNAI|      TAMIL NADU|          600028|          IN|false|        NULL|NULL|    NULL|\n",
      "|404-4388660-6585119|04-30-22|             Shipped|    Amazon|    Amazon.in|         Expedited| T-shirt|   L|       Shipped|  1|     INR|   1186.017084569087|     HYDERABAD|       TELANGANA|          500050|          IN|false|        NULL|NULL|    NULL|\n",
      "|407-9815175-7715562|04-30-22|           Cancelled|  Merchant|    Amazon.in|          Standard| T-shirt|   M|    On the Way|  0|     INR|   872.3500120399416|          UDMA|          KERALA|          671319|          IN|false|   Easy Ship|NULL|    NULL|\n",
      "|171-4519721-7419566|04-29-22|Shipped - Deliver...|  Merchant|    Amazon.in|          Standard| T-shirt|  XL|       Shipped|  1|     INR|   816.0325626263244|      GURUGRAM|         HARYANA|          122002|          IN|false|   Easy Ship|NULL|    NULL|\n",
      "|408-2830412-5001168|04-29-22|Shipped - Deliver...|  Merchant|    Amazon.in|          Standard|   Shirt|   M|       Shipped|  1|     INR|   499.0060075980319|        PUTTUR|       KARNATAKA|          574203|          IN|false|   Easy Ship|NULL|    NULL|\n",
      "|406-2932330-3321959|04-29-22|           Cancelled|    Amazon|    Amazon.in|         Expedited| T-shirt|   S|     Cancelled|  0|    NULL|                NULL|       CHIRAWA|       RAJASTHAN|          333026|          IN|false|        NULL|NULL|    NULL|\n",
      "|403-3329838-9233131|04-29-22|             Shipped|    Amazon|    Amazon.in|         Expedited| T-shirt|   M|       Shipped|  1|     INR|   653.9959868395791|       LUCKNOW|   UTTAR PRADESH|          226003|          IN|false|        NULL|NULL|    NULL|\n",
      "|403-5061524-1069157|04-28-22|             Shipped|    Amazon|    Amazon.in|         Expedited| T-shirt|  XS|       Shipped|  1|     INR|   1111.936616524575|        BHILAI|    CHHATTISGARH|          490006|          IN|false|        NULL|NULL|    NULL|\n",
      "|407-2381438-0794755|04-28-22|           Cancelled|  Merchant|    Amazon.in|          Standard| Blazzer| XXL|    On the Way|  0|     INR|   753.3861767860388|      GURUGRAM|         HARYANA|          122004|          IN|false|   Easy Ship|NULL|    NULL|\n",
      "|407-9287244-6741956|04-28-22|             Shipped|    Amazon|    Amazon.in|         Expedited| Blazzer|  XL|       Shipped|  1|     INR|   884.9918157660143|         SURAT|         Gujarat|          395009|          IN|false|        NULL|NULL|    NULL|\n",
      "|402-6247468-4355542|04-27-22|Shipped - Deliver...|  Merchant|    Amazon.in|          Standard|   Shirt|   L|       Shipped|  1|     INR|   458.9144711459592|     LAKHIMPUR|   UTTAR PRADESH|          262701|          IN|false|   Easy Ship|NULL|    NULL|\n",
      "|404-8541183-2625124|04-27-22|Shipped - Deliver...|  Merchant|    Amazon.in|          Standard| T-shirt|  XL|       Shipped|  1|     INR|   611.9737196812274|        GANJAM|          ODISHA|          761121|          IN|false|   Easy Ship|NULL|    NULL|\n",
      "|408-2737126-0817167|04-27-22|             Shipped|    Amazon|    Amazon.in|          Standard|   Shirt|   S|       Shipped| -1|     INR|-0.04737033896577508|     AHMEDABAD|         Gujarat|          382345|          IN|false|        NULL|NULL|    NULL|\n",
      "|403-1147455-0953128|04-26-22|             Shipped|    Amazon|    Amazon.in|         Expedited| T-shirt|   M|       Shipped|  1|     INR|  1648.0120845767817|        MUMBAI|     MAHARASHTRA|          400089|          IN|false|        NULL|NULL|    NULL|\n",
      "|403-5256514-5961111|04-26-22|           Cancelled|  Merchant|    Amazon.in|          Standard| T-shirt|   S|    On the Way|  0|    NULL|                NULL|        MUMBAI|     MAHARASHTRA|          400078|          IN|false|   Easy Ship|NULL|    NULL|\n",
      "|405-4273004-7443538|04-26-22|             Shipped|    Amazon|    Amazon.in|         Expedited|   Shirt|   L|       Shipped|  1|     INR|   353.0136606202708|        PILERU|  ANDHRA PRADESH|          517214|          IN|false|        NULL|NULL|    NULL|\n",
      "|402-4715238-8520355|04-26-22|           Cancelled|  Merchant|    Amazon.in|          Standard| T-shirt|   S|    On the Way|  0|     INR|  -681.0324080869824|SRI GANGANAGAR|       RAJASTHAN|          335001|          IN|false|   Easy Ship|NULL|    NULL|\n",
      "|403-5332667-6713917|04-25-22|           Cancelled|  Merchant|    Amazon.in|          Standard| T-shirt|   M|    On the Way|  0|     INR|   1278.622271690176|         BHOTA|HIMACHAL PRADESH|          176041|          IN|false|   Easy Ship|NULL|    NULL|\n",
      "+-------------------+--------+--------------------+----------+-------------+------------------+--------+----+--------------+---+--------+--------------------+--------------+----------------+----------------+------------+-----+------------+----+--------+\n",
      "only showing top 20 rows\n",
      "\n"
     ]
    }
   ],
   "source": [
    "df = spark.read.option(\"header\", True).option(\"inferSchema\", True).csv(\"../batchs/sampled_data_2.csv\").drop('index')\n",
    "new_columns = [col.replace(\" \", \"_\").replace(\"-\", \"_\") for col in df.columns]\n",
    "df = df.toDF(*new_columns)\n",
    "df.show()"
   ]
  },
  {
   "cell_type": "code",
   "execution_count": 4,
   "metadata": {},
   "outputs": [],
   "source": [
    "df.createOrReplaceTempView('Sales')"
   ]
  },
  {
   "cell_type": "code",
   "execution_count": 5,
   "metadata": {},
   "outputs": [
    {
     "name": "stderr",
     "output_type": "stream",
     "text": [
      "                                                                                \r"
     ]
    },
    {
     "data": {
      "text/plain": [
       "26"
      ]
     },
     "execution_count": 5,
     "metadata": {},
     "output_type": "execute_result"
    }
   ],
   "source": [
    "df.count()"
   ]
  },
  {
   "cell_type": "code",
   "execution_count": 6,
   "metadata": {},
   "outputs": [
    {
     "data": {
      "text/plain": [
       "['Order_ID',\n",
       " 'Date',\n",
       " 'Status',\n",
       " 'Fulfilment',\n",
       " 'Sales_Channel',\n",
       " 'ship_service_level',\n",
       " 'Category',\n",
       " 'Size',\n",
       " 'Courier_Status',\n",
       " 'Qty',\n",
       " 'currency',\n",
       " 'Amount',\n",
       " 'ship_city',\n",
       " 'ship_state',\n",
       " 'ship_postal_code',\n",
       " 'ship_country',\n",
       " 'B2B',\n",
       " 'fulfilled_by',\n",
       " 'New',\n",
       " 'PendingS']"
      ]
     },
     "execution_count": 6,
     "metadata": {},
     "output_type": "execute_result"
    }
   ],
   "source": [
    "df.columns"
   ]
  },
  {
   "cell_type": "code",
   "execution_count": 9,
   "metadata": {},
   "outputs": [],
   "source": [
    "import os, glob\n",
    "target_col_names = [os.path.splitext(os.path.basename(file_name))[0] for file_name in glob.glob('/unique_keys/*.csv')]\n",
    "\n",
    "# table columns\n",
    "columns = ['Order_ID', 'Date', 'Status', 'Fulfilment', 'Sales_Channel', 'ship_service_level', 'Category', 'Size', 'Courier_Status', 'Qty', 'currency', 'Amount', 'ship_city', 'ship_state', 'ship_postal_code', 'ship_country', 'B2B', 'fulfilled_by', 'New', 'PendingS']"
   ]
  },
  {
   "cell_type": "code",
   "execution_count": 10,
   "metadata": {},
   "outputs": [
    {
     "name": "stdout",
     "output_type": "stream",
     "text": [
      "INFO   | Soda Core 3.3.18\n",
      "INFO   | Using DefaultSampler\n",
      "INFO   | Scan summary:\n",
      "INFO   | 9/12 checks PASSED: \n",
      "INFO   |     Sales in Amazon\n",
      "INFO   |       Schema Check [PASSED]\n",
      "INFO   |       row_count > 0 [PASSED]\n",
      "INFO   |       duplicate_count(Order_ID, Category, Date, Amount) warn when > 0 [PASSED]\n",
      "INFO   |       missing_percent(Order_ID) warn when > 5% fail when > 10% [PASSED]\n",
      "INFO   |       missing_percent(Qty) warn when > 10% [PASSED]\n",
      "INFO   |       invalid_percent(Date) fail when > 10% [PASSED]\n",
      "INFO   |       missing_percent(Status) warn when > 10% [PASSED]\n",
      "INFO   |       missing_percent(Sales_Channel) warn when > 10% [PASSED]\n",
      "INFO   |       missing_percent(ship_country) warn when > 5% [PASSED]\n",
      "INFO   | 3/12 checks WARNED: \n",
      "INFO   |     Sales in Amazon\n",
      "INFO   |       missing_percent(Amount) warn when > 10% [WARNED]\n",
      "INFO   |         check_value: 15.38\n",
      "INFO   |         row_count: 26\n",
      "INFO   |         missing_count: 4\n",
      "INFO   |       min(Amount) warn when < 0 [WARNED]\n",
      "INFO   |         check_value: -681.0324080869824\n",
      "INFO   |       min(Qty) warn when < 0 [WARNED]\n",
      "INFO   |         check_value: -1\n",
      "INFO   | Only 3 warnings. 0 failures. 0 errors. 9 pass.\n"
     ]
    }
   ],
   "source": [
    "checks = f\"\"\"\n",
    "checks for Sales:\n",
    "  - schema:\n",
    "      fail:\n",
    "        when required column missing:\n",
    "          - Order_ID\n",
    "          - Date\n",
    "          - Qty\n",
    "          - Amount\n",
    "\n",
    "  - row_count > 0\n",
    "\n",
    "  - duplicate_count(Order_ID, Category, Date, Amount):\n",
    "      warn: when > 0\n",
    "\n",
    "  - missing_percent(Order_ID):\n",
    "      fail: when > 10%\n",
    "      warn: when > 5%\n",
    "\n",
    "  - missing_percent(Amount):\n",
    "      warn: when > 10%\n",
    "\n",
    "  - missing_percent(Qty):\n",
    "      warn: when > 10%\n",
    "\n",
    "  - min(Amount):\n",
    "      warn: when < 0\n",
    "\n",
    "  - min(Qty):\n",
    "      warn: when < 0\n",
    "\n",
    "  - invalid_percent(Date):\n",
    "      fail: when > 10%\n",
    "      valid format: date us\n",
    "  \n",
    "  - missing_percent(Status):\n",
    "      warn: when > 10%\n",
    "  \n",
    "  - missing_percent(Sales_Channel):\n",
    "      warn: when > 10%\n",
    "\n",
    "  - missing_percent(ship_country):\n",
    "      warn: when > 5%\n",
    "\"\"\"\n",
    "scan = Scan()\n",
    "scan.set_scan_definition_name(\"test\")\n",
    "scan.set_data_source_name(\"Amazon\")\n",
    "scan.add_spark_session(spark, data_source_name=\"Amazon\")\n",
    "scan.add_sodacl_yaml_str(checks)\n",
    "scan.execute()\n",
    "# Check the Scan object for methods to inspect the scan result; the following prints all logs to console\n",
    "print(scan.get_logs_text())"
   ]
  }
 ],
 "metadata": {
  "kernelspec": {
   "display_name": "env",
   "language": "python",
   "name": "python3"
  },
  "language_info": {
   "codemirror_mode": {
    "name": "ipython",
    "version": 3
   },
   "file_extension": ".py",
   "mimetype": "text/x-python",
   "name": "python",
   "nbconvert_exporter": "python",
   "pygments_lexer": "ipython3",
   "version": "3.10.12"
  }
 },
 "nbformat": 4,
 "nbformat_minor": 2
}
