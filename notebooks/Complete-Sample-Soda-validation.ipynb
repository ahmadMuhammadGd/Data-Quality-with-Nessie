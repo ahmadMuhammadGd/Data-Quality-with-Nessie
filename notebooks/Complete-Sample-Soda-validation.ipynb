{
 "cells": [
  {
   "cell_type": "code",
   "execution_count": 2,
   "metadata": {},
   "outputs": [],
   "source": [
    "from pyspark.sql import SparkSession\n",
    "from soda.scan import Scan"
   ]
  },
  {
   "cell_type": "code",
   "execution_count": 3,
   "metadata": {},
   "outputs": [
    {
     "name": "stderr",
     "output_type": "stream",
     "text": [
      "24/08/24 14:31:36 WARN Utils: Your hostname, ahmad-HP-ZBook-17 resolves to a loopback address: 127.0.1.1; using 192.168.1.35 instead (on interface wlo1)\n",
      "24/08/24 14:31:36 WARN Utils: Set SPARK_LOCAL_IP if you need to bind to another address\n",
      "Setting default log level to \"WARN\".\n",
      "To adjust logging level use sc.setLogLevel(newLevel). For SparkR, use setLogLevel(newLevel).\n",
      "24/08/24 14:31:41 WARN NativeCodeLoader: Unable to load native-hadoop library for your platform... using builtin-java classes where applicable\n"
     ]
    }
   ],
   "source": [
    "spark = SparkSession \\\n",
    "    .builder \\\n",
    "    .appName(\"DQ\") \\\n",
    "    .getOrCreate()"
   ]
  },
  {
   "cell_type": "code",
   "execution_count": 4,
   "metadata": {},
   "outputs": [
    {
     "name": "stderr",
     "output_type": "stream",
     "text": [
      "                                                                                \r"
     ]
    },
    {
     "name": "stdout",
     "output_type": "stream",
     "text": [
      "+-------------------+--------+--------------------+----------+-------------+------------------+--------+----+--------------+---+--------+------+-----------+--------------+----------------+------------+-----+------------+----+--------+\n",
      "|           Order_ID|    Date|              Status|Fulfilment|Sales_Channel|ship_service_level|Category|Size|Courier_Status|Qty|currency|Amount|  ship_city|    ship_state|ship_postal_code|ship_country|  B2B|fulfilled_by| New|PendingS|\n",
      "+-------------------+--------+--------------------+----------+-------------+------------------+--------+----+--------------+---+--------+------+-----------+--------------+----------------+------------+-----+------------+----+--------+\n",
      "|405-8078784-5731545|04-30-22|           Cancelled|  Merchant|    Amazon.in|          Standard| T-shirt|   S|    On the Way|  0|     INR|647.62|     MUMBAI|   MAHARASHTRA|          400081|          IN|false|   Easy Ship|NULL|    NULL|\n",
      "|171-9198151-1101146|04-30-22|Shipped - Deliver...|  Merchant|    Amazon.in|          Standard|   Shirt| 3XL|       Shipped|  1|     INR| 406.0|  BENGALURU|     KARNATAKA|          560085|          IN|false|   Easy Ship|NULL|    NULL|\n",
      "|404-0687676-7273146|04-30-22|             Shipped|    Amazon|    Amazon.in|         Expedited|   Shirt|  XL|       Shipped|  1|     INR| 329.0|NAVI MUMBAI|   MAHARASHTRA|          410210|          IN| true|        NULL|NULL|    NULL|\n",
      "|403-9615377-8133951|04-30-22|           Cancelled|  Merchant|    Amazon.in|          Standard| Blazzer|   L|    On the Way|  0|     INR|753.33| PUDUCHERRY|    PUDUCHERRY|          605008|          IN|false|   Easy Ship|NULL|    NULL|\n",
      "|407-1069790-7240320|04-30-22|             Shipped|    Amazon|    Amazon.in|         Expedited|Trousers| 3XL|       Shipped|  1|     INR| 574.0|    CHENNAI|    TAMIL NADU|          600073|          IN|false|        NULL|NULL|    NULL|\n",
      "|404-1490984-4578765|04-30-22|             Shipped|    Amazon|    Amazon.in|         Expedited| T-shirt|  XL|       Shipped|  1|     INR| 824.0|  GHAZIABAD| UTTAR PRADESH|          201102|          IN|false|        NULL|NULL|    NULL|\n",
      "|408-5748499-6859555|04-30-22|             Shipped|    Amazon|    Amazon.in|         Expedited| T-shirt|   L|       Shipped|  1|     INR| 653.0| CHANDIGARH|    CHANDIGARH|          160036|          IN|false|        NULL|NULL|    NULL|\n",
      "|406-7807733-3785945|04-30-22|Shipped - Deliver...|  Merchant|    Amazon.in|          Standard|   Shirt|   S|       Shipped|  1|     INR| 399.0|  HYDERABAD|     TELANGANA|          500032|          IN|false|   Easy Ship|NULL|    NULL|\n",
      "|407-5443024-5233168|04-30-22|           Cancelled|    Amazon|    Amazon.in|         Expedited| T-shirt| 3XL|     Cancelled|  0|    NULL|  NULL|  HYDERABAD|     TELANGANA|          500008|          IN|false|        NULL|NULL|    NULL|\n",
      "|402-4393761-0311520|04-30-22|             Shipped|    Amazon|    Amazon.in|         Expedited|   Shirt| XXL|       Shipped|  1|     INR| 363.0|    Chennai|    TAMIL NADU|          600041|          IN|false|        NULL|NULL|    NULL|\n",
      "|407-5633625-6970741|04-30-22|             Shipped|    Amazon|    Amazon.in|         Expedited|   Shirt|   S|       Shipped|  1|     INR| 685.0|    CHENNAI|    TAMIL NADU|          600073|          IN|false|        NULL|NULL|    NULL|\n",
      "|171-4638481-6326716|04-30-22|             Shipped|    Amazon|    Amazon.in|         Expedited|   Shirt|  XS|       Shipped|  1|     INR| 364.0|      NOIDA| UTTAR PRADESH|          201303|          IN|false|        NULL|NULL|    NULL|\n",
      "|405-5513694-8146768|04-30-22|Shipped - Deliver...|  Merchant|    Amazon.in|          Standard|   Shirt|  XS|       Shipped|  1|     INR| 399.0|  Amravati.|   MAHARASHTRA|          444606|          IN|false|   Easy Ship|NULL|    NULL|\n",
      "|408-7955685-3083534|04-30-22|             Shipped|    Amazon|    Amazon.in|         Expedited| T-shirt|  XS|       Shipped|  1|     INR| 657.0|     MUMBAI|   MAHARASHTRA|          400053|          IN|false|        NULL|NULL|    NULL|\n",
      "|408-1298370-1920302|04-30-22|Shipped - Deliver...|  Merchant|    Amazon.in|          Standard| T-shirt|   L|       Shipped|  1|     INR| 771.0|     MUMBAI|   MAHARASHTRA|          400053|          IN|false|   Easy Ship|NULL|    NULL|\n",
      "|403-4965581-9520319|04-30-22|Shipped - Deliver...|  Merchant|    Amazon.in|          Standard|   Shirt| 6XL|       Shipped|  1|     INR| 544.0|   GUNTAKAL|ANDHRA PRADESH|          515801|          IN|false|   Easy Ship|NULL|    NULL|\n",
      "|406-9379318-6555504|04-30-22|             Shipped|    Amazon|    Amazon.in|         Expedited|   Shirt| XXL|       Shipped|  1|     INR| 329.0|     JAIPUR|     RAJASTHAN|          302020|          IN|false|        NULL|NULL|    NULL|\n",
      "|405-9013803-8009918|04-30-22|             Shipped|    Amazon|    Amazon.in|         Expedited|   Shirt|  XL|       Shipped|  1|     INR| 399.0|  NEW DELHI|         DELHI|          110074|          IN|false|        NULL|NULL|    NULL|\n",
      "|402-4030358-5835511|04-30-22|Shipped - Deliver...|  Merchant|    Amazon.in|          Standard|   Shirt| XXL|       Shipped|  1|     INR| 458.0|    Gurgaon|       HARYANA|          122004|          IN|false|   Easy Ship|NULL|    NULL|\n",
      "|405-5957858-1051546|04-30-22|             Shipped|    Amazon|    Amazon.in|         Expedited| T-shirt|  XS|       Shipped|  1|     INR| 886.0|  BENGALURU|     KARNATAKA|          560017|          IN|false|        NULL|NULL|    NULL|\n",
      "+-------------------+--------+--------------------+----------+-------------+------------------+--------+----+--------------+---+--------+------+-----------+--------------+----------------+------------+-----+------------+----+--------+\n",
      "only showing top 20 rows\n",
      "\n"
     ]
    }
   ],
   "source": [
    "df = spark.read.option(\"header\", True).option(\"inferSchema\", True).csv(\"../original_dataset/Amazon Sale Report.csv\").drop('index')\n",
    "new_columns = [col.replace(\" \", \"_\").replace(\"-\", \"_\") for col in df.columns]\n",
    "df = df.toDF(*new_columns)\n",
    "df.show()"
   ]
  },
  {
   "cell_type": "code",
   "execution_count": 5,
   "metadata": {},
   "outputs": [],
   "source": [
    "df.createOrReplaceTempView('Sales')"
   ]
  },
  {
   "cell_type": "code",
   "execution_count": 6,
   "metadata": {},
   "outputs": [
    {
     "name": "stderr",
     "output_type": "stream",
     "text": [
      "                                                                                \r"
     ]
    },
    {
     "data": {
      "text/plain": [
       "128976"
      ]
     },
     "execution_count": 6,
     "metadata": {},
     "output_type": "execute_result"
    }
   ],
   "source": [
    "df.count()"
   ]
  },
  {
   "cell_type": "code",
   "execution_count": 7,
   "metadata": {},
   "outputs": [
    {
     "data": {
      "text/plain": [
       "['Order_ID',\n",
       " 'Date',\n",
       " 'Status',\n",
       " 'Fulfilment',\n",
       " 'Sales_Channel',\n",
       " 'ship_service_level',\n",
       " 'Category',\n",
       " 'Size',\n",
       " 'Courier_Status',\n",
       " 'Qty',\n",
       " 'currency',\n",
       " 'Amount',\n",
       " 'ship_city',\n",
       " 'ship_state',\n",
       " 'ship_postal_code',\n",
       " 'ship_country',\n",
       " 'B2B',\n",
       " 'fulfilled_by',\n",
       " 'New',\n",
       " 'PendingS']"
      ]
     },
     "execution_count": 7,
     "metadata": {},
     "output_type": "execute_result"
    }
   ],
   "source": [
    "df.columns"
   ]
  },
  {
   "cell_type": "code",
   "execution_count": 8,
   "metadata": {},
   "outputs": [
    {
     "name": "stderr",
     "output_type": "stream",
     "text": [
      "                                                                                \r"
     ]
    },
    {
     "name": "stdout",
     "output_type": "stream",
     "text": [
      "INFO   | Soda Core 3.3.18\n",
      "INFO   | Using DefaultSampler\n",
      "INFO   | Using DefaultSampler\n",
      "INFO   | Using DefaultSampler\n",
      "INFO   | Scan summary:\n",
      "INFO   | 11/12 checks PASSED: \n",
      "INFO   |     Sales in Amazon\n",
      "INFO   |       Schema Check [PASSED]\n",
      "INFO   |       row_count > 0 [PASSED]\n",
      "INFO   |       missing_percent(Order_ID) warn when > 5% fail when > 10% [PASSED]\n",
      "INFO   |       missing_percent(Amount) warn when > 10% [PASSED]\n",
      "INFO   |       min(Amount) warn when < 0 [PASSED]\n",
      "INFO   |       missing_percent(Qty) warn when > 10% [PASSED]\n",
      "INFO   |       min(Qty) warn when < 0 [PASSED]\n",
      "INFO   |       invalid_percent(Date) fail when > 10% [PASSED]\n",
      "INFO   |       missing_percent(Status) warn when > 10% [PASSED]\n",
      "INFO   |       missing_percent(Sales_Channel) warn when > 10% [PASSED]\n",
      "INFO   |       missing_percent(ship_country) warn when > 5% [PASSED]\n",
      "INFO   | 1/12 checks WARNED: \n",
      "INFO   |     Sales in Amazon\n",
      "INFO   |       duplicate_count(Order_ID, Category, Date, Amount) warn when > 0 [WARNED]\n",
      "INFO   |         check_value: 1134\n",
      "INFO   | Only 1 warning. 0 failure. 0 errors. 11 pass.\n"
     ]
    }
   ],
   "source": [
    "checks = \"\"\"\n",
    "checks for Sales:\n",
    "  - schema:\n",
    "      fail:\n",
    "        when required column missing:\n",
    "          - Order_ID\n",
    "          - Date\n",
    "          - Qty\n",
    "          - Amount\n",
    "\n",
    "  - row_count > 0\n",
    "\n",
    "  - duplicate_count(Order_ID, Category, Date, Amount):\n",
    "      warn: when > 0\n",
    "\n",
    "  - missing_percent(Order_ID):\n",
    "      fail: when > 10%\n",
    "      warn: when > 5%\n",
    "\n",
    "  - missing_percent(Amount):\n",
    "      warn: when > 10%\n",
    "\n",
    "  - missing_percent(Qty):\n",
    "      warn: when > 10%\n",
    "\n",
    "  - min(Amount):\n",
    "      warn: when < 0\n",
    "\n",
    "  - min(Qty):\n",
    "      warn: when < 0\n",
    "\n",
    "  - invalid_percent(Date):\n",
    "      fail: when > 10%\n",
    "      valid format: date us\n",
    "  \n",
    "  - missing_percent(Status):\n",
    "      warn: when > 10%\n",
    "  \n",
    "  - missing_percent(Sales_Channel):\n",
    "      warn: when > 10%\n",
    "\n",
    "  - missing_percent(ship_country):\n",
    "      warn: when > 5%\n",
    "\"\"\"\n",
    "scan = Scan()\n",
    "scan.set_scan_definition_name(\"test\")\n",
    "scan.set_data_source_name(\"Amazon\")\n",
    "scan.add_spark_session(spark, data_source_name=\"Amazon\")\n",
    "scan.add_sodacl_yaml_str(checks)\n",
    "scan.execute()\n",
    "# Check the Scan object for methods to inspect the scan result; the following prints all logs to console\n",
    "print(scan.get_logs_text())"
   ]
  },
  {
   "cell_type": "code",
   "execution_count": null,
   "metadata": {},
   "outputs": [],
   "source": []
  }
 ],
 "metadata": {
  "kernelspec": {
   "display_name": "env",
   "language": "python",
   "name": "python3"
  },
  "language_info": {
   "codemirror_mode": {
    "name": "ipython",
    "version": 3
   },
   "file_extension": ".py",
   "mimetype": "text/x-python",
   "name": "python",
   "nbconvert_exporter": "python",
   "pygments_lexer": "ipython3",
   "version": "3.10.12"
  }
 },
 "nbformat": 4,
 "nbformat_minor": 2
}
