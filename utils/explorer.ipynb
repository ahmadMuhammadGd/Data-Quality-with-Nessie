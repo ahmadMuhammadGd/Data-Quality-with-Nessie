{
 "cells": [
  {
   "cell_type": "code",
   "execution_count": 12,
   "metadata": {},
   "outputs": [
    {
     "name": "stdout",
     "output_type": "stream",
     "text": [
      "Requirement already satisfied: ipywidgets in ./env/lib/python3.10/site-packages (8.1.3)\n",
      "Requirement already satisfied: widgetsnbextension~=4.0.11 in ./env/lib/python3.10/site-packages (from ipywidgets) (4.0.11)\n",
      "Requirement already satisfied: jupyterlab-widgets~=3.0.11 in ./env/lib/python3.10/site-packages (from ipywidgets) (3.0.11)\n",
      "Requirement already satisfied: ipython>=6.1.0 in ./env/lib/python3.10/site-packages (from ipywidgets) (8.26.0)\n",
      "Requirement already satisfied: comm>=0.1.3 in ./env/lib/python3.10/site-packages (from ipywidgets) (0.2.2)\n",
      "Requirement already satisfied: traitlets>=4.3.1 in ./env/lib/python3.10/site-packages (from ipywidgets) (5.14.3)\n",
      "Requirement already satisfied: matplotlib-inline in ./env/lib/python3.10/site-packages (from ipython>=6.1.0->ipywidgets) (0.1.7)\n",
      "Requirement already satisfied: prompt-toolkit<3.1.0,>=3.0.41 in ./env/lib/python3.10/site-packages (from ipython>=6.1.0->ipywidgets) (3.0.47)\n",
      "Requirement already satisfied: typing-extensions>=4.6 in ./env/lib/python3.10/site-packages (from ipython>=6.1.0->ipywidgets) (4.12.2)\n",
      "Requirement already satisfied: pexpect>4.3 in ./env/lib/python3.10/site-packages (from ipython>=6.1.0->ipywidgets) (4.9.0)\n",
      "Requirement already satisfied: pygments>=2.4.0 in ./env/lib/python3.10/site-packages (from ipython>=6.1.0->ipywidgets) (2.18.0)\n",
      "Requirement already satisfied: jedi>=0.16 in ./env/lib/python3.10/site-packages (from ipython>=6.1.0->ipywidgets) (0.19.1)\n",
      "Requirement already satisfied: exceptiongroup in ./env/lib/python3.10/site-packages (from ipython>=6.1.0->ipywidgets) (1.2.2)\n",
      "Requirement already satisfied: stack-data in ./env/lib/python3.10/site-packages (from ipython>=6.1.0->ipywidgets) (0.6.3)\n",
      "Requirement already satisfied: decorator in ./env/lib/python3.10/site-packages (from ipython>=6.1.0->ipywidgets) (5.1.1)\n",
      "Requirement already satisfied: parso<0.9.0,>=0.8.3 in ./env/lib/python3.10/site-packages (from jedi>=0.16->ipython>=6.1.0->ipywidgets) (0.8.4)\n",
      "Requirement already satisfied: ptyprocess>=0.5 in ./env/lib/python3.10/site-packages (from pexpect>4.3->ipython>=6.1.0->ipywidgets) (0.7.0)\n",
      "Requirement already satisfied: wcwidth in ./env/lib/python3.10/site-packages (from prompt-toolkit<3.1.0,>=3.0.41->ipython>=6.1.0->ipywidgets) (0.2.13)\n",
      "Requirement already satisfied: executing>=1.2.0 in ./env/lib/python3.10/site-packages (from stack-data->ipython>=6.1.0->ipywidgets) (2.0.1)\n",
      "Requirement already satisfied: pure-eval in ./env/lib/python3.10/site-packages (from stack-data->ipython>=6.1.0->ipywidgets) (0.2.3)\n",
      "Requirement already satisfied: asttokens>=2.1.0 in ./env/lib/python3.10/site-packages (from stack-data->ipython>=6.1.0->ipywidgets) (2.4.1)\n",
      "Requirement already satisfied: six>=1.12.0 in ./env/lib/python3.10/site-packages (from asttokens>=2.1.0->stack-data->ipython>=6.1.0->ipywidgets) (1.16.0)\n",
      "usage: jupyter [-h] [--version] [--config-dir] [--data-dir] [--runtime-dir]\n",
      "               [--paths] [--json] [--debug]\n",
      "               [subcommand]\n",
      "\n",
      "Jupyter: Interactive Computing\n",
      "\n",
      "positional arguments:\n",
      "  subcommand     the subcommand to launch\n",
      "\n",
      "options:\n",
      "  -h, --help     show this help message and exit\n",
      "  --version      show the versions of core jupyter packages and exit\n",
      "  --config-dir   show Jupyter config dir\n",
      "  --data-dir     show Jupyter data dir\n",
      "  --runtime-dir  show Jupyter runtime dir\n",
      "  --paths        show all Jupyter paths. Add --json for machine-readable\n",
      "                 format.\n",
      "  --json         output paths as machine-readable json\n",
      "  --debug        output debug information about paths\n",
      "\n",
      "Available subcommands: kernel kernelspec migrate run troubleshoot\n",
      "\n",
      "Jupyter command `jupyter-nbextension` not found.\n"
     ]
    }
   ],
   "source": [
    "! pip install ipywidgets\n",
    "! jupyter nbextension enable --py widgetsnbextension"
   ]
  },
  {
   "cell_type": "code",
   "execution_count": 13,
   "metadata": {},
   "outputs": [],
   "source": [
    "from pyspark.sql import SparkSession\n",
    "from ydata_profiling import ProfileReport"
   ]
  },
  {
   "cell_type": "code",
   "execution_count": 14,
   "metadata": {},
   "outputs": [],
   "source": [
    "spark = SparkSession \\\n",
    "    .builder \\\n",
    "    .appName(\"EDA\") \\\n",
    "    .getOrCreate()"
   ]
  },
  {
   "cell_type": "code",
   "execution_count": 15,
   "metadata": {},
   "outputs": [
    {
     "name": "stderr",
     "output_type": "stream",
     "text": [
      "                                                                                \r"
     ]
    }
   ],
   "source": [
    "df = spark.read.option(\"header\", True).option(\"inferSchema\", True).csv(\"original_dataset/Amazon Sale Report.csv\").drop('index')"
   ]
  },
  {
   "cell_type": "code",
   "execution_count": 16,
   "metadata": {},
   "outputs": [
    {
     "name": "stdout",
     "output_type": "stream",
     "text": [
      "+-------------------+--------+--------------------+----------+-------------+------------------+--------+----+--------------+---+--------+------+-----------+--------------+----------------+------------+-----+------------+----+--------+\n",
      "|           Order ID|    Date|              Status|Fulfilment|Sales Channel|ship-service-level|Category|Size|Courier Status|Qty|currency|Amount|  ship-city|    ship-state|ship-postal-code|ship-country|  B2B|fulfilled-by| New|PendingS|\n",
      "+-------------------+--------+--------------------+----------+-------------+------------------+--------+----+--------------+---+--------+------+-----------+--------------+----------------+------------+-----+------------+----+--------+\n",
      "|405-8078784-5731545|04-30-22|           Cancelled|  Merchant|    Amazon.in|          Standard| T-shirt|   S|    On the Way|  0|     INR|647.62|     MUMBAI|   MAHARASHTRA|          400081|          IN|false|   Easy Ship|NULL|    NULL|\n",
      "|171-9198151-1101146|04-30-22|Shipped - Deliver...|  Merchant|    Amazon.in|          Standard|   Shirt| 3XL|       Shipped|  1|     INR| 406.0|  BENGALURU|     KARNATAKA|          560085|          IN|false|   Easy Ship|NULL|    NULL|\n",
      "|404-0687676-7273146|04-30-22|             Shipped|    Amazon|    Amazon.in|         Expedited|   Shirt|  XL|       Shipped|  1|     INR| 329.0|NAVI MUMBAI|   MAHARASHTRA|          410210|          IN| true|        NULL|NULL|    NULL|\n",
      "|403-9615377-8133951|04-30-22|           Cancelled|  Merchant|    Amazon.in|          Standard| Blazzer|   L|    On the Way|  0|     INR|753.33| PUDUCHERRY|    PUDUCHERRY|          605008|          IN|false|   Easy Ship|NULL|    NULL|\n",
      "|407-1069790-7240320|04-30-22|             Shipped|    Amazon|    Amazon.in|         Expedited|Trousers| 3XL|       Shipped|  1|     INR| 574.0|    CHENNAI|    TAMIL NADU|          600073|          IN|false|        NULL|NULL|    NULL|\n",
      "|404-1490984-4578765|04-30-22|             Shipped|    Amazon|    Amazon.in|         Expedited| T-shirt|  XL|       Shipped|  1|     INR| 824.0|  GHAZIABAD| UTTAR PRADESH|          201102|          IN|false|        NULL|NULL|    NULL|\n",
      "|408-5748499-6859555|04-30-22|             Shipped|    Amazon|    Amazon.in|         Expedited| T-shirt|   L|       Shipped|  1|     INR| 653.0| CHANDIGARH|    CHANDIGARH|          160036|          IN|false|        NULL|NULL|    NULL|\n",
      "|406-7807733-3785945|04-30-22|Shipped - Deliver...|  Merchant|    Amazon.in|          Standard|   Shirt|   S|       Shipped|  1|     INR| 399.0|  HYDERABAD|     TELANGANA|          500032|          IN|false|   Easy Ship|NULL|    NULL|\n",
      "|407-5443024-5233168|04-30-22|           Cancelled|    Amazon|    Amazon.in|         Expedited| T-shirt| 3XL|     Cancelled|  0|    NULL|  NULL|  HYDERABAD|     TELANGANA|          500008|          IN|false|        NULL|NULL|    NULL|\n",
      "|402-4393761-0311520|04-30-22|             Shipped|    Amazon|    Amazon.in|         Expedited|   Shirt| XXL|       Shipped|  1|     INR| 363.0|    Chennai|    TAMIL NADU|          600041|          IN|false|        NULL|NULL|    NULL|\n",
      "|407-5633625-6970741|04-30-22|             Shipped|    Amazon|    Amazon.in|         Expedited|   Shirt|   S|       Shipped|  1|     INR| 685.0|    CHENNAI|    TAMIL NADU|          600073|          IN|false|        NULL|NULL|    NULL|\n",
      "|171-4638481-6326716|04-30-22|             Shipped|    Amazon|    Amazon.in|         Expedited|   Shirt|  XS|       Shipped|  1|     INR| 364.0|      NOIDA| UTTAR PRADESH|          201303|          IN|false|        NULL|NULL|    NULL|\n",
      "|405-5513694-8146768|04-30-22|Shipped - Deliver...|  Merchant|    Amazon.in|          Standard|   Shirt|  XS|       Shipped|  1|     INR| 399.0|  Amravati.|   MAHARASHTRA|          444606|          IN|false|   Easy Ship|NULL|    NULL|\n",
      "|408-7955685-3083534|04-30-22|             Shipped|    Amazon|    Amazon.in|         Expedited| T-shirt|  XS|       Shipped|  1|     INR| 657.0|     MUMBAI|   MAHARASHTRA|          400053|          IN|false|        NULL|NULL|    NULL|\n",
      "|408-1298370-1920302|04-30-22|Shipped - Deliver...|  Merchant|    Amazon.in|          Standard| T-shirt|   L|       Shipped|  1|     INR| 771.0|     MUMBAI|   MAHARASHTRA|          400053|          IN|false|   Easy Ship|NULL|    NULL|\n",
      "|403-4965581-9520319|04-30-22|Shipped - Deliver...|  Merchant|    Amazon.in|          Standard|   Shirt| 6XL|       Shipped|  1|     INR| 544.0|   GUNTAKAL|ANDHRA PRADESH|          515801|          IN|false|   Easy Ship|NULL|    NULL|\n",
      "|406-9379318-6555504|04-30-22|             Shipped|    Amazon|    Amazon.in|         Expedited|   Shirt| XXL|       Shipped|  1|     INR| 329.0|     JAIPUR|     RAJASTHAN|          302020|          IN|false|        NULL|NULL|    NULL|\n",
      "|405-9013803-8009918|04-30-22|             Shipped|    Amazon|    Amazon.in|         Expedited|   Shirt|  XL|       Shipped|  1|     INR| 399.0|  NEW DELHI|         DELHI|          110074|          IN|false|        NULL|NULL|    NULL|\n",
      "|402-4030358-5835511|04-30-22|Shipped - Deliver...|  Merchant|    Amazon.in|          Standard|   Shirt| XXL|       Shipped|  1|     INR| 458.0|    Gurgaon|       HARYANA|          122004|          IN|false|   Easy Ship|NULL|    NULL|\n",
      "|405-5957858-1051546|04-30-22|             Shipped|    Amazon|    Amazon.in|         Expedited| T-shirt|  XS|       Shipped|  1|     INR| 886.0|  BENGALURU|     KARNATAKA|          560017|          IN|false|        NULL|NULL|    NULL|\n",
      "+-------------------+--------+--------------------+----------+-------------+------------------+--------+----+--------------+---+--------+------+-----------+--------------+----------------+------------+-----+------------+----+--------+\n",
      "only showing top 20 rows\n",
      "\n"
     ]
    }
   ],
   "source": [
    "df.show()"
   ]
  },
  {
   "cell_type": "code",
   "execution_count": 17,
   "metadata": {},
   "outputs": [
    {
     "name": "stdout",
     "output_type": "stream",
     "text": [
      "root\n",
      " |-- Order ID: string (nullable = true)\n",
      " |-- Date: string (nullable = true)\n",
      " |-- Status: string (nullable = true)\n",
      " |-- Fulfilment: string (nullable = true)\n",
      " |-- Sales Channel: string (nullable = true)\n",
      " |-- ship-service-level: string (nullable = true)\n",
      " |-- Category: string (nullable = true)\n",
      " |-- Size: string (nullable = true)\n",
      " |-- Courier Status: string (nullable = true)\n",
      " |-- Qty: integer (nullable = true)\n",
      " |-- currency: string (nullable = true)\n",
      " |-- Amount: double (nullable = true)\n",
      " |-- ship-city: string (nullable = true)\n",
      " |-- ship-state: string (nullable = true)\n",
      " |-- ship-postal-code: integer (nullable = true)\n",
      " |-- ship-country: string (nullable = true)\n",
      " |-- B2B: boolean (nullable = true)\n",
      " |-- fulfilled-by: string (nullable = true)\n",
      " |-- New: string (nullable = true)\n",
      " |-- PendingS: string (nullable = true)\n",
      "\n"
     ]
    }
   ],
   "source": [
    "df.printSchema()"
   ]
  },
  {
   "cell_type": "code",
   "execution_count": 18,
   "metadata": {},
   "outputs": [],
   "source": [
    "from pyspark.sql.functions import col, to_date\n",
    "df = df.withColumn(\"Date\", to_date(col(\"Date\"), \"yyyy-MM-dd\"))"
   ]
  },
  {
   "cell_type": "code",
   "execution_count": 19,
   "metadata": {},
   "outputs": [
    {
     "name": "stderr",
     "output_type": "stream",
     "text": [
      "                                                                                \r"
     ]
    },
    {
     "data": {
      "application/vnd.jupyter.widget-view+json": {
       "model_id": "b6d337314f2247a78bd9f44a4a4d9641",
       "version_major": 2,
       "version_minor": 0
      },
      "text/plain": [
       "Summarize dataset:   0%|          | 0/5 [00:00<?, ?it/s]"
      ]
     },
     "metadata": {},
     "output_type": "display_data"
    },
    {
     "name": "stderr",
     "output_type": "stream",
     "text": [
      "/home/ahmad/repo/Data-Quality-with-Nessie/env/lib/python3.10/site-packages/ydata_profiling/model/pandas/summary_pandas.py:39: FutureWarning: Downcasting object dtype arrays on .fillna, .ffill, .bfill is deprecated and will change in a future version. Call result.infer_objects(copy=False) instead. To opt-in to the future behavior, set `pd.set_option('future.no_silent_downcasting', True)`\n",
      "  series = series.fillna(np.nan)\n",
      "/home/ahmad/repo/Data-Quality-with-Nessie/env/lib/python3.10/site-packages/ydata_profiling/model/pandas/summary_pandas.py:39: FutureWarning: Downcasting object dtype arrays on .fillna, .ffill, .bfill is deprecated and will change in a future version. Call result.infer_objects(copy=False) instead. To opt-in to the future behavior, set `pd.set_option('future.no_silent_downcasting', True)`\n",
      "  series = series.fillna(np.nan)\n",
      "/home/ahmad/repo/Data-Quality-with-Nessie/env/lib/python3.10/site-packages/ydata_profiling/model/pandas/summary_pandas.py:39: FutureWarning: Downcasting object dtype arrays on .fillna, .ffill, .bfill is deprecated and will change in a future version. Call result.infer_objects(copy=False) instead. To opt-in to the future behavior, set `pd.set_option('future.no_silent_downcasting', True)`\n",
      "  series = series.fillna(np.nan)\n",
      "/home/ahmad/repo/Data-Quality-with-Nessie/env/lib/python3.10/site-packages/ydata_profiling/model/pandas/discretize_pandas.py:52: FutureWarning: Setting an item of incompatible dtype is deprecated and will raise in a future error of pandas. Value '[0 0 0 ... 0 0 0]' has dtype incompatible with int32, please explicitly cast to a compatible dtype first.\n",
      "  discretized_df.loc[:, column] = self._discretize_column(\n"
     ]
    },
    {
     "data": {
      "application/vnd.jupyter.widget-view+json": {
       "model_id": "460c1eda33c442b6a6ecc8ae189f15f0",
       "version_major": 2,
       "version_minor": 0
      },
      "text/plain": [
       "Generate report structure:   0%|          | 0/1 [00:00<?, ?it/s]"
      ]
     },
     "metadata": {},
     "output_type": "display_data"
    },
    {
     "data": {
      "application/vnd.jupyter.widget-view+json": {
       "model_id": "a306bead97094cb79aa8e51949a6cc86",
       "version_major": 2,
       "version_minor": 0
      },
      "text/plain": [
       "Render HTML:   0%|          | 0/1 [00:00<?, ?it/s]"
      ]
     },
     "metadata": {},
     "output_type": "display_data"
    },
    {
     "data": {
      "application/vnd.jupyter.widget-view+json": {
       "model_id": "a244a6576cac49c380518be696cdd53a",
       "version_major": 2,
       "version_minor": 0
      },
      "text/plain": [
       "Export report to file:   0%|          | 0/1 [00:00<?, ?it/s]"
      ]
     },
     "metadata": {},
     "output_type": "display_data"
    },
    {
     "data": {
      "application/vnd.jupyter.widget-view+json": {
       "model_id": "d00ec9b9e6d147d8a75e5b638ef0c25a",
       "version_major": 2,
       "version_minor": 0
      },
      "text/plain": [
       "Render widgets:   0%|          | 0/1 [00:00<?, ?it/s]"
      ]
     },
     "metadata": {},
     "output_type": "display_data"
    },
    {
     "data": {
      "application/vnd.jupyter.widget-view+json": {
       "model_id": "a5d91a08f76b4c0d90300d545fe33bdc",
       "version_major": 2,
       "version_minor": 0
      },
      "text/plain": [
       "VBox(children=(Tab(children=(Tab(children=(GridBox(children=(VBox(children=(GridspecLayout(children=(HTML(valu…"
      ]
     },
     "metadata": {},
     "output_type": "display_data"
    }
   ],
   "source": [
    "pandas_df = df.toPandas()\n",
    "report = ProfileReport(pandas_df, title=\"Profiling Pandas DataFrame\")\n",
    "report.to_file('profile.html')\n",
    "report.to_widgets()"
   ]
  },
  {
   "cell_type": "code",
   "execution_count": null,
   "metadata": {},
   "outputs": [],
   "source": []
  },
  {
   "cell_type": "code",
   "execution_count": 20,
   "metadata": {},
   "outputs": [],
   "source": [
    "spark.stop()"
   ]
  },
  {
   "cell_type": "markdown",
   "metadata": {},
   "source": [
    "# Insights"
   ]
  },
  {
   "cell_type": "markdown",
   "metadata": {},
   "source": [
    "## Correlation Heat Map\n",
    "![correlation](./assets/notebook/corr_map.png)"
   ]
  },
  {
   "cell_type": "markdown",
   "metadata": {},
   "source": [
    "From the map above, it seems that:\n",
    "- Amount and Sales Channel has high correlation =<0.75\n",
    "- Category and size seems to have medium correlation 0.25<corr<0.75\n",
    "- Category and amount seems to have medium correlation 0.25<corr<0.75\n",
    "\n"
   ]
  },
  {
   "cell_type": "code",
   "execution_count": null,
   "metadata": {},
   "outputs": [],
   "source": []
  },
  {
   "cell_type": "markdown",
   "metadata": {},
   "source": []
  },
  {
   "cell_type": "markdown",
   "metadata": {},
   "source": []
  }
 ],
 "metadata": {
  "kernelspec": {
   "display_name": "env",
   "language": "python",
   "name": "python3"
  },
  "language_info": {
   "codemirror_mode": {
    "name": "ipython",
    "version": 3
   },
   "file_extension": ".py",
   "mimetype": "text/x-python",
   "name": "python",
   "nbconvert_exporter": "python",
   "pygments_lexer": "ipython3",
   "version": "3.10.12"
  }
 },
 "nbformat": 4,
 "nbformat_minor": 2
}
