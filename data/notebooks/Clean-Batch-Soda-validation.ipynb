{
 "cells": [
  {
   "cell_type": "code",
   "execution_count": 1,
   "metadata": {},
   "outputs": [],
   "source": [
    "from pyspark.sql import SparkSession\n",
    "from soda.scan import Scan"
   ]
  },
  {
   "cell_type": "code",
   "execution_count": 2,
   "metadata": {},
   "outputs": [
    {
     "name": "stderr",
     "output_type": "stream",
     "text": [
      "24/08/24 14:36:02 WARN Utils: Your hostname, ahmad-HP-ZBook-17 resolves to a loopback address: 127.0.1.1; using 192.168.1.35 instead (on interface wlo1)\n",
      "24/08/24 14:36:02 WARN Utils: Set SPARK_LOCAL_IP if you need to bind to another address\n",
      "Setting default log level to \"WARN\".\n",
      "To adjust logging level use sc.setLogLevel(newLevel). For SparkR, use setLogLevel(newLevel).\n",
      "24/08/24 14:36:04 WARN NativeCodeLoader: Unable to load native-hadoop library for your platform... using builtin-java classes where applicable\n"
     ]
    }
   ],
   "source": [
    "spark = SparkSession \\\n",
    "    .builder \\\n",
    "    .appName(\"DQ\") \\\n",
    "    .getOrCreate()"
   ]
  },
  {
   "cell_type": "code",
   "execution_count": 3,
   "metadata": {},
   "outputs": [
    {
     "name": "stderr",
     "output_type": "stream",
     "text": [
      "                                                                                \r"
     ]
    },
    {
     "name": "stdout",
     "output_type": "stream",
     "text": [
      "+-------------------+--------+--------------------+----------+-------------+------------------+--------+----+--------------+---+--------+------+----------+----------------+----------------+------------+-----+------------+----+--------+\n",
      "|           Order_ID|    Date|              Status|Fulfilment|ORDERS_Channel|ship_service_level|Category|Size|Courier_Status|Qty|currency|Amount| ship_city|      ship_state|ship_postal_code|ship_country|  B2B|fulfilled_by| New|PendingS|\n",
      "+-------------------+--------+--------------------+----------+-------------+------------------+--------+----+--------------+---+--------+------+----------+----------------+----------------+------------+-----+------------+----+--------+\n",
      "|408-6820155-3521913|04-30-22|             Shipped|    Amazon|    Amazon.in|         Expedited| T-shirt| 3XL|       Shipped|  1|     INR| 751.0|    TEZPUR|           ASSAM|          784001|          IN|false|        NULL|NULL|    NULL|\n",
      "|405-8114272-1687512|04-30-22|             Shipped|    Amazon|    Amazon.in|         Expedited| T-shirt|   L|       Shipped|  1|     INR| 788.0| NEW DELHI|           DELHI|          110034|          IN|false|        NULL|NULL|    NULL|\n",
      "|402-8288606-4313118|04-30-22|             Shipped|    Amazon|    Amazon.in|         Expedited|   Shirt|   M|       Shipped|  1|     INR| 517.0|  BILASPUR|HIMACHAL PRADESH|          174001|          IN|false|        NULL|NULL|    NULL|\n",
      "|405-3036350-8089120|04-30-22|             Shipped|    Amazon|    Amazon.in|         Expedited|   Shirt|   M|       Shipped|  1|     INR| 795.0| ANKLESHWR|         Gujarat|          393002|          IN|false|        NULL|NULL|    NULL|\n",
      "|406-8049367-7383569|04-30-22|             Shipped|    Amazon|    Amazon.in|         Expedited| T-shirt|   M|       Shipped|  1|     INR| 654.0|   GURGAON|         HARYANA|          122001|          IN|false|        NULL|NULL|    NULL|\n",
      "|402-1704468-7240327|04-30-22|Shipped - Deliver...|  Merchant|    Amazon.in|          Standard|   Shirt| XXL|       Shipped|  1|     INR| 568.0|   MADURAI|      TAMIL NADU|          625007|          IN|false|   Easy Ship|NULL|    NULL|\n",
      "|404-1191982-9809906|04-30-22|           Cancelled|  Merchant|    Amazon.in|          Standard| T-shirt|   L|    On the Way|  0|     INR|536.19|  KOTTAYAM|          KERALA|          686006|          IN|false|   Easy Ship|NULL|    NULL|\n",
      "|407-9815175-7715562|04-30-22|           Cancelled|  Merchant|    Amazon.in|          Standard| T-shirt|   M|    On the Way|  0|     INR|872.38|      UDMA|          KERALA|          671319|          IN|false|   Easy Ship|NULL|    NULL|\n",
      "|406-2782901-2134745|04-29-22|           Cancelled|    Amazon|    Amazon.in|         Expedited| T-shirt|   L|     Cancelled|  0|    NULL|  NULL|     NOIDA|   UTTAR PRADESH|          201301|          IN|false|        NULL|NULL|    NULL|\n",
      "|406-7680753-4797147|04-29-22|           Cancelled|    Amazon|    Amazon.in|         Expedited| Blazzer|  XL|     Cancelled|  0|    NULL|  NULL|    MUMBAI|     MAHARASHTRA|          400006|          IN|false|        NULL|NULL|    NULL|\n",
      "|403-3329838-9233131|04-29-22|             Shipped|    Amazon|    Amazon.in|         Expedited| T-shirt|   M|       Shipped|  1|     INR| 654.0|   LUCKNOW|   UTTAR PRADESH|          226003|          IN|false|        NULL|NULL|    NULL|\n",
      "|404-9066453-5956354|04-29-22|           Cancelled|    Amazon|    Amazon.in|         Expedited|   Shirt|   M|     Unshipped|  1|     INR| 399.0|     PATNA|           BIHAR|          801105|          IN|false|        NULL|NULL|    NULL|\n",
      "|403-5061524-1069157|04-28-22|             Shipped|    Amazon|    Amazon.in|         Expedited| T-shirt|  XS|       Shipped|  1|     INR|1112.0|    BHILAI|    CHHATTISGARH|          490006|          IN|false|        NULL|NULL|    NULL|\n",
      "|407-9287244-6741956|04-28-22|             Shipped|    Amazon|    Amazon.in|         Expedited| Blazzer|  XL|       Shipped|  1|     INR| 885.0|     SURAT|         Gujarat|          395009|          IN|false|        NULL|NULL|    NULL|\n",
      "|402-6247468-4355542|04-27-22|Shipped - Deliver...|  Merchant|    Amazon.in|          Standard|   Shirt|   L|       Shipped|  1|     INR| 459.0| LAKHIMPUR|   UTTAR PRADESH|          262701|          IN|false|   Easy Ship|NULL|    NULL|\n",
      "|171-1192913-3571535|04-27-22|Shipped - Deliver...|  Merchant|    Amazon.in|          Standard|   Shirt|   L|       Shipped|  1|     INR| 399.0|Motebennur|       KARNATAKA|          581106|          IN|false|   Easy Ship|NULL|    NULL|\n",
      "|404-8541183-2625124|04-27-22|Shipped - Deliver...|  Merchant|    Amazon.in|          Standard| T-shirt|  XL|       Shipped|  1|     INR| 612.0|    GANJAM|          ODISHA|          761121|          IN|false|   Easy Ship|NULL|    NULL|\n",
      "|406-4381262-9005953|04-27-22|             Shipped|    Amazon|    Amazon.in|         Expedited| T-shirt|  XS|       Shipped|  1|     INR|1099.0| ALLAHABAD|   UTTAR PRADESH|          211002|          IN|false|        NULL|NULL|    NULL|\n",
      "|403-6167726-0243521|04-26-22|             Shipped|    Amazon|    Amazon.in|         Expedited|   Shirt|   M|       Shipped|  1|     INR| 486.0| HYDERABAD|       TELANGANA|          500018|          IN|false|        NULL|NULL|    NULL|\n",
      "|403-1147455-0953128|04-26-22|             Shipped|    Amazon|    Amazon.in|         Expedited| T-shirt|   M|       Shipped|  1|     INR|1648.0|    MUMBAI|     MAHARASHTRA|          400089|          IN|false|        NULL|NULL|    NULL|\n",
      "+-------------------+--------+--------------------+----------+-------------+------------------+--------+----+--------------+---+--------+------+----------+----------------+----------------+------------+-----+------------+----+--------+\n",
      "only showing top 20 rows\n",
      "\n"
     ]
    }
   ],
   "source": [
    "df = spark.read.option(\"header\", True).option(\"inferSchema\", True).csv(\"../batchs/sampled_data_1.csv\").drop('index')\n",
    "new_columns = [col.replace(\" \", \"_\").replace(\"-\", \"_\") for col in df.columns]\n",
    "df = df.toDF(*new_columns)\n",
    "df.show()"
   ]
  },
  {
   "cell_type": "code",
   "execution_count": 4,
   "metadata": {},
   "outputs": [],
   "source": [
    "df.createOrReplaceTempView('ORDERS')"
   ]
  },
  {
   "cell_type": "code",
   "execution_count": 5,
   "metadata": {},
   "outputs": [
    {
     "data": {
      "text/plain": [
       "25"
      ]
     },
     "execution_count": 5,
     "metadata": {},
     "output_type": "execute_result"
    }
   ],
   "source": [
    "df.count()"
   ]
  },
  {
   "cell_type": "code",
   "execution_count": 6,
   "metadata": {},
   "outputs": [
    {
     "data": {
      "text/plain": [
       "['Order_ID',\n",
       " 'Date',\n",
       " 'Status',\n",
       " 'Fulfilment',\n",
       " 'ORDERS_Channel',\n",
       " 'ship_service_level',\n",
       " 'Category',\n",
       " 'Size',\n",
       " 'Courier_Status',\n",
       " 'Qty',\n",
       " 'currency',\n",
       " 'Amount',\n",
       " 'ship_city',\n",
       " 'ship_state',\n",
       " 'ship_postal_code',\n",
       " 'ship_country',\n",
       " 'B2B',\n",
       " 'fulfilled_by',\n",
       " 'New',\n",
       " 'PendingS']"
      ]
     },
     "execution_count": 6,
     "metadata": {},
     "output_type": "execute_result"
    }
   ],
   "source": [
    "df.columns"
   ]
  },
  {
   "cell_type": "code",
   "execution_count": 7,
   "metadata": {},
   "outputs": [
    {
     "name": "stdout",
     "output_type": "stream",
     "text": [
      "INFO   | Soda Core 3.3.18\n",
      "INFO   | Using DefaultSampler\n",
      "INFO   | Scan summary:\n",
      "INFO   | 11/12 checks PASSED: \n",
      "INFO   |     ORDERS in Amazon\n",
      "INFO   |       Schema Check [PASSED]\n",
      "INFO   |       row_count > 0 [PASSED]\n",
      "INFO   |       duplicate_count(Order_ID, Category, Date, Amount) warn when > 0 [PASSED]\n",
      "INFO   |       missing_percent(Order_ID) warn when > 5% fail when > 10% [PASSED]\n",
      "INFO   |       min(Amount) warn when < 0 [PASSED]\n",
      "INFO   |       missing_percent(Qty) warn when > 10% [PASSED]\n",
      "INFO   |       min(Qty) warn when < 0 [PASSED]\n",
      "INFO   |       invalid_percent(Date) fail when > 10% [PASSED]\n",
      "INFO   |       missing_percent(Status) warn when > 10% [PASSED]\n",
      "INFO   |       missing_percent(ORDERS_Channel) warn when > 10% [PASSED]\n",
      "INFO   |       missing_percent(ship_country) warn when > 5% [PASSED]\n",
      "INFO   | 1/12 checks WARNED: \n",
      "INFO   |     ORDERS in Amazon\n",
      "INFO   |       missing_percent(Amount) warn when > 10% [WARNED]\n",
      "INFO   |         check_value: 12.0\n",
      "INFO   |         row_count: 25\n",
      "INFO   |         missing_count: 3\n",
      "INFO   | Only 1 warning. 0 failure. 0 errors. 11 pass.\n"
     ]
    }
   ],
   "source": [
    "checks = \"\"\"\n",
    "checks for ORDERS:\n",
    "  - schema:\n",
    "      fail:\n",
    "        when required column missing:\n",
    "          - Order_ID\n",
    "          - Date\n",
    "          - Qty\n",
    "          - Amount\n",
    "\n",
    "  - row_count > 0\n",
    "\n",
    "  - duplicate_count(Order_ID, Category, Date, Amount):\n",
    "      warn: when > 0\n",
    "\n",
    "  - missing_percent(Order_ID):\n",
    "      fail: when > 10%\n",
    "      warn: when > 5%\n",
    "\n",
    "  - missing_percent(Amount):\n",
    "      warn: when > 10%\n",
    "\n",
    "  - missing_percent(Qty):\n",
    "      warn: when > 10%\n",
    "\n",
    "  - min(Amount):\n",
    "      warn: when < 0\n",
    "\n",
    "  - min(Qty):\n",
    "      warn: when < 0\n",
    "\n",
    "  - invalid_percent(Date):\n",
    "      fail: when > 10%\n",
    "      valid format: date us\n",
    "  \n",
    "  - missing_percent(Status):\n",
    "      warn: when > 10%\n",
    "  \n",
    "  - missing_percent(ORDERS_Channel):\n",
    "      warn: when > 10%\n",
    "\n",
    "  - missing_percent(ship_country):\n",
    "      warn: when > 5%\n",
    "\"\"\"\n",
    "scan = Scan()\n",
    "scan.set_scan_definition_name(\"test\")\n",
    "scan.set_data_source_name(\"Amazon\")\n",
    "scan.add_spark_session(spark, data_source_name=\"Amazon\")\n",
    "scan.add_sodacl_yaml_str(checks)\n",
    "scan.execute()\n",
    "# Check the Scan object for methods to inspect the scan result; the following prints all logs to console\n",
    "print(scan.get_logs_text())"
   ]
  }
 ],
 "metadata": {
  "kernelspec": {
   "display_name": "env",
   "language": "python",
   "name": "python3"
  },
  "language_info": {
   "codemirror_mode": {
    "name": "ipython",
    "version": 3
   },
   "file_extension": ".py",
   "mimetype": "text/x-python",
   "name": "python",
   "nbconvert_exporter": "python",
   "pygments_lexer": "ipython3",
   "version": "3.10.12"
  }
 },
 "nbformat": 4,
 "nbformat_minor": 2
}
